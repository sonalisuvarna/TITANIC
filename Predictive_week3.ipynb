{
 "cells": [
  {
   "cell_type": "code",
   "execution_count": 1,
   "metadata": {},
   "outputs": [],
   "source": [
    "import pandas as pd \n",
    "import numpy as np\n",
    "from sklearn.model_selection import train_test_split\n",
    "from sklearn import metrics"
   ]
  },
  {
   "cell_type": "code",
   "execution_count": 7,
   "metadata": {},
   "outputs": [],
   "source": [
    "titanic = pd.read_csv('D:/College/Predictive/titanic.csv')"
   ]
  },
  {
   "cell_type": "code",
   "execution_count": 9,
   "metadata": {},
   "outputs": [
    {
     "data": {
      "text/plain": [
       "Survived                   0\n",
       "Pclass                     0\n",
       "Name                       0\n",
       "Sex                        0\n",
       "Age                        0\n",
       "Siblings/Spouses Aboard    0\n",
       "Parents/Children Aboard    0\n",
       "Fare                       0\n",
       "dtype: int64"
      ]
     },
     "execution_count": 9,
     "metadata": {},
     "output_type": "execute_result"
    }
   ],
   "source": [
    "titanic.isnull().sum()"
   ]
  },
  {
   "cell_type": "code",
   "execution_count": 10,
   "metadata": {},
   "outputs": [
    {
     "data": {
      "text/plain": [
       "Survived                     int64\n",
       "Pclass                       int64\n",
       "Name                        object\n",
       "Sex                         object\n",
       "Age                        float64\n",
       "Siblings/Spouses Aboard      int64\n",
       "Parents/Children Aboard      int64\n",
       "Fare                       float64\n",
       "dtype: object"
      ]
     },
     "execution_count": 10,
     "metadata": {},
     "output_type": "execute_result"
    }
   ],
   "source": [
    "titanic.dtypes"
   ]
  },
  {
   "cell_type": "code",
   "execution_count": 21,
   "metadata": {},
   "outputs": [],
   "source": [
    "for i in titanic['Sex']:\n",
    "    if i=='male':\n",
    "        titanic['Sex']=1\n",
    "    else:\n",
    "        titanic['Sex']=0\n",
    "        "
   ]
  },
  {
   "cell_type": "code",
   "execution_count": 40,
   "metadata": {},
   "outputs": [
    {
     "data": {
      "text/html": [
       "<div>\n",
       "<style scoped>\n",
       "    .dataframe tbody tr th:only-of-type {\n",
       "        vertical-align: middle;\n",
       "    }\n",
       "\n",
       "    .dataframe tbody tr th {\n",
       "        vertical-align: top;\n",
       "    }\n",
       "\n",
       "    .dataframe thead th {\n",
       "        text-align: right;\n",
       "    }\n",
       "</style>\n",
       "<table border=\"1\" class=\"dataframe\">\n",
       "  <thead>\n",
       "    <tr style=\"text-align: right;\">\n",
       "      <th></th>\n",
       "      <th>Survived</th>\n",
       "      <th>Pclass</th>\n",
       "      <th>Sex</th>\n",
       "      <th>Age</th>\n",
       "      <th>Siblings/Spouses Aboard</th>\n",
       "      <th>Parents/Children Aboard</th>\n",
       "      <th>Fare</th>\n",
       "    </tr>\n",
       "  </thead>\n",
       "  <tbody>\n",
       "    <tr>\n",
       "      <th>Survived</th>\n",
       "      <td>1.000000</td>\n",
       "      <td>-0.336528</td>\n",
       "      <td>NaN</td>\n",
       "      <td>-0.059665</td>\n",
       "      <td>-0.037082</td>\n",
       "      <td>0.080097</td>\n",
       "      <td>0.256179</td>\n",
       "    </tr>\n",
       "    <tr>\n",
       "      <th>Pclass</th>\n",
       "      <td>-0.336528</td>\n",
       "      <td>1.000000</td>\n",
       "      <td>NaN</td>\n",
       "      <td>-0.391492</td>\n",
       "      <td>0.085026</td>\n",
       "      <td>0.020252</td>\n",
       "      <td>-0.548919</td>\n",
       "    </tr>\n",
       "    <tr>\n",
       "      <th>Sex</th>\n",
       "      <td>NaN</td>\n",
       "      <td>NaN</td>\n",
       "      <td>NaN</td>\n",
       "      <td>NaN</td>\n",
       "      <td>NaN</td>\n",
       "      <td>NaN</td>\n",
       "      <td>NaN</td>\n",
       "    </tr>\n",
       "    <tr>\n",
       "      <th>Age</th>\n",
       "      <td>-0.059665</td>\n",
       "      <td>-0.391492</td>\n",
       "      <td>NaN</td>\n",
       "      <td>1.000000</td>\n",
       "      <td>-0.297669</td>\n",
       "      <td>-0.193741</td>\n",
       "      <td>0.112329</td>\n",
       "    </tr>\n",
       "    <tr>\n",
       "      <th>Siblings/Spouses Aboard</th>\n",
       "      <td>-0.037082</td>\n",
       "      <td>0.085026</td>\n",
       "      <td>NaN</td>\n",
       "      <td>-0.297669</td>\n",
       "      <td>1.000000</td>\n",
       "      <td>0.414244</td>\n",
       "      <td>0.158839</td>\n",
       "    </tr>\n",
       "    <tr>\n",
       "      <th>Parents/Children Aboard</th>\n",
       "      <td>0.080097</td>\n",
       "      <td>0.020252</td>\n",
       "      <td>NaN</td>\n",
       "      <td>-0.193741</td>\n",
       "      <td>0.414244</td>\n",
       "      <td>1.000000</td>\n",
       "      <td>0.215470</td>\n",
       "    </tr>\n",
       "    <tr>\n",
       "      <th>Fare</th>\n",
       "      <td>0.256179</td>\n",
       "      <td>-0.548919</td>\n",
       "      <td>NaN</td>\n",
       "      <td>0.112329</td>\n",
       "      <td>0.158839</td>\n",
       "      <td>0.215470</td>\n",
       "      <td>1.000000</td>\n",
       "    </tr>\n",
       "  </tbody>\n",
       "</table>\n",
       "</div>"
      ],
      "text/plain": [
       "                         Survived    Pclass  Sex       Age  \\\n",
       "Survived                 1.000000 -0.336528  NaN -0.059665   \n",
       "Pclass                  -0.336528  1.000000  NaN -0.391492   \n",
       "Sex                           NaN       NaN  NaN       NaN   \n",
       "Age                     -0.059665 -0.391492  NaN  1.000000   \n",
       "Siblings/Spouses Aboard -0.037082  0.085026  NaN -0.297669   \n",
       "Parents/Children Aboard  0.080097  0.020252  NaN -0.193741   \n",
       "Fare                     0.256179 -0.548919  NaN  0.112329   \n",
       "\n",
       "                         Siblings/Spouses Aboard  Parents/Children Aboard  \\\n",
       "Survived                               -0.037082                 0.080097   \n",
       "Pclass                                  0.085026                 0.020252   \n",
       "Sex                                          NaN                      NaN   \n",
       "Age                                    -0.297669                -0.193741   \n",
       "Siblings/Spouses Aboard                 1.000000                 0.414244   \n",
       "Parents/Children Aboard                 0.414244                 1.000000   \n",
       "Fare                                    0.158839                 0.215470   \n",
       "\n",
       "                             Fare  \n",
       "Survived                 0.256179  \n",
       "Pclass                  -0.548919  \n",
       "Sex                           NaN  \n",
       "Age                      0.112329  \n",
       "Siblings/Spouses Aboard  0.158839  \n",
       "Parents/Children Aboard  0.215470  \n",
       "Fare                     1.000000  "
      ]
     },
     "execution_count": 40,
     "metadata": {},
     "output_type": "execute_result"
    }
   ],
   "source": [
    "titanic.corr(method='pearson')"
   ]
  },
  {
   "cell_type": "code",
   "execution_count": 38,
   "metadata": {},
   "outputs": [],
   "source": [
    "titanic['Sex']=titanic['Sex'].astype(int)"
   ]
  },
  {
   "cell_type": "code",
   "execution_count": 39,
   "metadata": {},
   "outputs": [
    {
     "data": {
      "text/plain": [
       "Survived                     int64\n",
       "Pclass                       int64\n",
       "Name                        object\n",
       "Sex                          int32\n",
       "Age                        float64\n",
       "Siblings/Spouses Aboard      int64\n",
       "Parents/Children Aboard      int64\n",
       "Fare                       float64\n",
       "dtype: object"
      ]
     },
     "execution_count": 39,
     "metadata": {},
     "output_type": "execute_result"
    }
   ],
   "source": [
    "titanic.dtypes"
   ]
  },
  {
   "cell_type": "code",
   "execution_count": 51,
   "metadata": {},
   "outputs": [
    {
     "data": {
      "text/plain": [
       "Age                         13\n",
       "Fare                       116\n",
       "Name                         0\n",
       "Parents/Children Aboard    213\n",
       "Pclass                       0\n",
       "Sex                          0\n",
       "Siblings/Spouses Aboard     46\n",
       "Survived                     0\n",
       "dtype: int64"
      ]
     },
     "execution_count": 51,
     "metadata": {},
     "output_type": "execute_result"
    }
   ],
   "source": [
    "##################### Outlier check\n",
    "Q1 = titanic.quantile(0.25)\n",
    "Q3 = titanic.quantile(0.75)\n",
    "IQR = Q3 - Q1\n",
    "((titanic <(Q1 - 1.5*IQR))| (titanic > (Q3 + 1.5*IQR))).sum()"
   ]
  },
  {
   "cell_type": "code",
   "execution_count": 53,
   "metadata": {},
   "outputs": [],
   "source": [
    "titanic= titanic.drop(['Name','Sex','Siblings/Spouses Aboard'], axis=1)"
   ]
  },
  {
   "cell_type": "code",
   "execution_count": 54,
   "metadata": {
    "scrolled": true
   },
   "outputs": [
    {
     "data": {
      "text/html": [
       "<div>\n",
       "<style scoped>\n",
       "    .dataframe tbody tr th:only-of-type {\n",
       "        vertical-align: middle;\n",
       "    }\n",
       "\n",
       "    .dataframe tbody tr th {\n",
       "        vertical-align: top;\n",
       "    }\n",
       "\n",
       "    .dataframe thead th {\n",
       "        text-align: right;\n",
       "    }\n",
       "</style>\n",
       "<table border=\"1\" class=\"dataframe\">\n",
       "  <thead>\n",
       "    <tr style=\"text-align: right;\">\n",
       "      <th></th>\n",
       "      <th>Survived</th>\n",
       "      <th>Pclass</th>\n",
       "      <th>Age</th>\n",
       "      <th>Parents/Children Aboard</th>\n",
       "      <th>Fare</th>\n",
       "    </tr>\n",
       "  </thead>\n",
       "  <tbody>\n",
       "    <tr>\n",
       "      <th>0</th>\n",
       "      <td>0</td>\n",
       "      <td>3</td>\n",
       "      <td>22.0</td>\n",
       "      <td>0</td>\n",
       "      <td>7.2500</td>\n",
       "    </tr>\n",
       "    <tr>\n",
       "      <th>1</th>\n",
       "      <td>1</td>\n",
       "      <td>1</td>\n",
       "      <td>38.0</td>\n",
       "      <td>0</td>\n",
       "      <td>71.2833</td>\n",
       "    </tr>\n",
       "    <tr>\n",
       "      <th>2</th>\n",
       "      <td>1</td>\n",
       "      <td>3</td>\n",
       "      <td>26.0</td>\n",
       "      <td>0</td>\n",
       "      <td>7.9250</td>\n",
       "    </tr>\n",
       "    <tr>\n",
       "      <th>3</th>\n",
       "      <td>1</td>\n",
       "      <td>1</td>\n",
       "      <td>35.0</td>\n",
       "      <td>0</td>\n",
       "      <td>53.1000</td>\n",
       "    </tr>\n",
       "    <tr>\n",
       "      <th>4</th>\n",
       "      <td>0</td>\n",
       "      <td>3</td>\n",
       "      <td>35.0</td>\n",
       "      <td>0</td>\n",
       "      <td>8.0500</td>\n",
       "    </tr>\n",
       "    <tr>\n",
       "      <th>...</th>\n",
       "      <td>...</td>\n",
       "      <td>...</td>\n",
       "      <td>...</td>\n",
       "      <td>...</td>\n",
       "      <td>...</td>\n",
       "    </tr>\n",
       "    <tr>\n",
       "      <th>882</th>\n",
       "      <td>0</td>\n",
       "      <td>2</td>\n",
       "      <td>27.0</td>\n",
       "      <td>0</td>\n",
       "      <td>13.0000</td>\n",
       "    </tr>\n",
       "    <tr>\n",
       "      <th>883</th>\n",
       "      <td>1</td>\n",
       "      <td>1</td>\n",
       "      <td>19.0</td>\n",
       "      <td>0</td>\n",
       "      <td>30.0000</td>\n",
       "    </tr>\n",
       "    <tr>\n",
       "      <th>884</th>\n",
       "      <td>0</td>\n",
       "      <td>3</td>\n",
       "      <td>7.0</td>\n",
       "      <td>2</td>\n",
       "      <td>23.4500</td>\n",
       "    </tr>\n",
       "    <tr>\n",
       "      <th>885</th>\n",
       "      <td>1</td>\n",
       "      <td>1</td>\n",
       "      <td>26.0</td>\n",
       "      <td>0</td>\n",
       "      <td>30.0000</td>\n",
       "    </tr>\n",
       "    <tr>\n",
       "      <th>886</th>\n",
       "      <td>0</td>\n",
       "      <td>3</td>\n",
       "      <td>32.0</td>\n",
       "      <td>0</td>\n",
       "      <td>7.7500</td>\n",
       "    </tr>\n",
       "  </tbody>\n",
       "</table>\n",
       "<p>887 rows × 5 columns</p>\n",
       "</div>"
      ],
      "text/plain": [
       "     Survived  Pclass   Age  Parents/Children Aboard     Fare\n",
       "0           0       3  22.0                        0   7.2500\n",
       "1           1       1  38.0                        0  71.2833\n",
       "2           1       3  26.0                        0   7.9250\n",
       "3           1       1  35.0                        0  53.1000\n",
       "4           0       3  35.0                        0   8.0500\n",
       "..        ...     ...   ...                      ...      ...\n",
       "882         0       2  27.0                        0  13.0000\n",
       "883         1       1  19.0                        0  30.0000\n",
       "884         0       3   7.0                        2  23.4500\n",
       "885         1       1  26.0                        0  30.0000\n",
       "886         0       3  32.0                        0   7.7500\n",
       "\n",
       "[887 rows x 5 columns]"
      ]
     },
     "execution_count": 54,
     "metadata": {},
     "output_type": "execute_result"
    }
   ],
   "source": [
    "titanic"
   ]
  },
  {
   "cell_type": "code",
   "execution_count": 57,
   "metadata": {},
   "outputs": [],
   "source": [
    "X= titanic.drop(['Survived'],axis=1)\n",
    "y= titanic['Survived']"
   ]
  },
  {
   "cell_type": "code",
   "execution_count": 59,
   "metadata": {},
   "outputs": [],
   "source": [
    "###### Dividing the into training & Test \n",
    "X_train, X_test, y_train, y_test= train_test_split(X, y,test_size=0.2, random_state=1)"
   ]
  },
  {
   "cell_type": "code",
   "execution_count": 73,
   "metadata": {},
   "outputs": [
    {
     "name": "stdout",
     "output_type": "stream",
     "text": [
      "Confusion Matrix:\n",
      "[[82 24]\n",
      " [26 46]]\n",
      "Classification Report\n",
      "              precision    recall  f1-score   support\n",
      "\n",
      "           0       0.76      0.77      0.77       106\n",
      "           1       0.66      0.64      0.65        72\n",
      "\n",
      "    accuracy                           0.72       178\n",
      "   macro avg       0.71      0.71      0.71       178\n",
      "weighted avg       0.72      0.72      0.72       178\n",
      "\n",
      "Accuracy: 71.91011235955057\n",
      "Recall: 0.638889\n"
     ]
    }
   ],
   "source": [
    "########## Gradient Boosting\n",
    "from sklearn.ensemble import GradientBoostingClassifier\n",
    "from sklearn import metrics\n",
    "from sklearn.metrics import classification_report, confusion_matrix\n",
    "gb_clf = GradientBoostingClassifier(n_estimators=100, learning_rate=0.75,max_features=4,random_state=20)\n",
    "gb_clf.fit(X_train, y_train)\n",
    "predictions = gb_clf.predict(X_test)\n",
    "print(\"Confusion Matrix:\")\n",
    "print(confusion_matrix(y_test, predictions))\n",
    "\n",
    "print(\"Classification Report\")\n",
    "print(classification_report(y_test, predictions))\n",
    "print(\"Accuracy:\",metrics.accuracy_score(y_test,predictions)*100)\n",
    "from sklearn.metrics import recall_score\n",
    "recall = recall_score(y_test, predictions)\n",
    "print('Recall: %f' % recall)"
   ]
  },
  {
   "cell_type": "code",
   "execution_count": 71,
   "metadata": {},
   "outputs": [
    {
     "name": "stdout",
     "output_type": "stream",
     "text": [
      "Accuracy: 70.2247191011236\n",
      "[[81 28]\n",
      " [25 44]]\n",
      "              precision    recall  f1-score   support\n",
      "\n",
      "         0.0       0.76      0.74      0.75       109\n",
      "         1.0       0.61      0.64      0.62        69\n",
      "\n",
      "    accuracy                           0.70       178\n",
      "   macro avg       0.69      0.69      0.69       178\n",
      "weighted avg       0.70      0.70      0.70       178\n",
      "\n"
     ]
    }
   ],
   "source": [
    "from sklearn.ensemble import RandomForestRegressor\n",
    "rf = RandomForestRegressor(n_estimators = 150, random_state = 20)\n",
    "rf = rf.fit(X_train,y_train)\n",
    "y_pred = rf.predict(X_test)\n",
    "print(\"Accuracy:\",metrics.accuracy_score(y_test,y_pred.round() )*100)\n",
    "\n",
    "print(confusion_matrix(y_pred.round(),y_test ))\n",
    "print(classification_report(y_pred.round(), y_test))"
   ]
  },
  {
   "cell_type": "code",
   "execution_count": 83,
   "metadata": {},
   "outputs": [],
   "source": [
    "from sklearn.tree import DecisionTreeClassifier\n",
    "\n",
    "clf = DecisionTreeClassifier(max_depth=5)\n",
    "# Train Decision Tree Classifer\n",
    "clf = clf.fit(X_train,y_train)\n",
    "#Predict the response for test dataset\n",
    "y_pred = clf.predict(X_test)\n"
   ]
  },
  {
   "cell_type": "code",
   "execution_count": 92,
   "metadata": {},
   "outputs": [
    {
     "name": "stdout",
     "output_type": "stream",
     "text": [
      "Accuracy: 70.78651685393258\n",
      "Validation Results\n",
      "0.767277856135402\n",
      "0.6481481481481481\n",
      "\n",
      "Test Results\n",
      "0.7078651685393258\n",
      "0.5277777777777778\n"
     ]
    },
    {
     "data": {
      "text/plain": [
       "[Text(146.475, 199.32, 'X[3] <= 15.173\\ngini = 0.472\\nsamples = 709\\nvalue = [439, 270]'),\n",
       " Text(65.50434782608696, 163.07999999999998, 'X[1] <= 15.5\\ngini = 0.359\\nsamples = 371\\nvalue = [284, 87]'),\n",
       " Text(36.391304347826086, 126.83999999999999, 'X[1] <= 13.5\\ngini = 0.305\\nsamples = 16\\nvalue = [3, 13]'),\n",
       " Text(21.834782608695654, 90.6, 'X[3] <= 10.798\\ngini = 0.18\\nsamples = 10\\nvalue = [1, 9]'),\n",
       " Text(14.556521739130435, 54.359999999999985, 'X[3] <= 9.49\\ngini = 0.444\\nsamples = 3\\nvalue = [1, 2]'),\n",
       " Text(7.278260869565218, 18.119999999999976, 'gini = 0.0\\nsamples = 2\\nvalue = [0, 2]'),\n",
       " Text(21.834782608695654, 18.119999999999976, 'gini = 0.0\\nsamples = 1\\nvalue = [1, 0]'),\n",
       " Text(29.11304347826087, 54.359999999999985, 'gini = 0.0\\nsamples = 7\\nvalue = [0, 7]'),\n",
       " Text(50.947826086956525, 90.6, 'X[1] <= 14.75\\ngini = 0.444\\nsamples = 6\\nvalue = [2, 4]'),\n",
       " Text(43.66956521739131, 54.359999999999985, 'X[3] <= 9.548\\ngini = 0.444\\nsamples = 3\\nvalue = [2, 1]'),\n",
       " Text(36.391304347826086, 18.119999999999976, 'gini = 0.0\\nsamples = 1\\nvalue = [1, 0]'),\n",
       " Text(50.947826086956525, 18.119999999999976, 'gini = 0.5\\nsamples = 2\\nvalue = [1, 1]'),\n",
       " Text(58.22608695652174, 54.359999999999985, 'gini = 0.0\\nsamples = 3\\nvalue = [0, 3]'),\n",
       " Text(94.61739130434783, 126.83999999999999, 'X[1] <= 36.5\\ngini = 0.33\\nsamples = 355\\nvalue = [281, 74]'),\n",
       " Text(80.06086956521739, 90.6, 'X[2] <= 1.5\\ngini = 0.365\\nsamples = 291\\nvalue = [221, 70]'),\n",
       " Text(72.78260869565217, 54.359999999999985, 'X[3] <= 7.133\\ngini = 0.36\\nsamples = 289\\nvalue = [221, 68]'),\n",
       " Text(65.50434782608696, 18.119999999999976, 'gini = 0.137\\nsamples = 27\\nvalue = [25, 2]'),\n",
       " Text(80.06086956521739, 18.119999999999976, 'gini = 0.377\\nsamples = 262\\nvalue = [196, 66]'),\n",
       " Text(87.33913043478262, 54.359999999999985, 'gini = 0.0\\nsamples = 2\\nvalue = [0, 2]'),\n",
       " Text(109.17391304347827, 90.6, 'X[3] <= 7.91\\ngini = 0.117\\nsamples = 64\\nvalue = [60, 4]'),\n",
       " Text(101.89565217391305, 54.359999999999985, 'gini = 0.0\\nsamples = 24\\nvalue = [24, 0]'),\n",
       " Text(116.45217391304348, 54.359999999999985, 'X[1] <= 50.5\\ngini = 0.18\\nsamples = 40\\nvalue = [36, 4]'),\n",
       " Text(109.17391304347827, 18.119999999999976, 'gini = 0.252\\nsamples = 27\\nvalue = [23, 4]'),\n",
       " Text(123.7304347826087, 18.119999999999976, 'gini = 0.0\\nsamples = 13\\nvalue = [13, 0]'),\n",
       " Text(227.44565217391306, 163.07999999999998, 'X[0] <= 2.5\\ngini = 0.497\\nsamples = 338\\nvalue = [155, 183]'),\n",
       " Text(178.31739130434784, 126.83999999999999, 'X[1] <= 53.5\\ngini = 0.466\\nsamples = 243\\nvalue = [90, 153]'),\n",
       " Text(160.12173913043478, 90.6, 'X[1] <= 18.5\\ngini = 0.436\\nsamples = 212\\nvalue = [68, 144]'),\n",
       " Text(145.56521739130434, 54.359999999999985, 'X[3] <= 135.775\\ngini = 0.121\\nsamples = 31\\nvalue = [2, 29]'),\n",
       " Text(138.28695652173914, 18.119999999999976, 'gini = 0.069\\nsamples = 28\\nvalue = [1, 27]'),\n",
       " Text(152.84347826086957, 18.119999999999976, 'gini = 0.444\\nsamples = 3\\nvalue = [1, 2]'),\n",
       " Text(174.67826086956524, 54.359999999999985, 'X[3] <= 54.05\\ngini = 0.463\\nsamples = 181\\nvalue = [66, 115]'),\n",
       " Text(167.4, 18.119999999999976, 'gini = 0.497\\nsamples = 100\\nvalue = [46, 54]'),\n",
       " Text(181.95652173913044, 18.119999999999976, 'gini = 0.372\\nsamples = 81\\nvalue = [20, 61]'),\n",
       " Text(196.51304347826087, 90.6, 'X[3] <= 24.462\\ngini = 0.412\\nsamples = 31\\nvalue = [22, 9]'),\n",
       " Text(189.23478260869567, 54.359999999999985, 'gini = 0.0\\nsamples = 2\\nvalue = [0, 2]'),\n",
       " Text(203.7913043478261, 54.359999999999985, 'X[3] <= 77.623\\ngini = 0.366\\nsamples = 29\\nvalue = [22, 7]'),\n",
       " Text(196.51304347826087, 18.119999999999976, 'gini = 0.227\\nsamples = 23\\nvalue = [20, 3]'),\n",
       " Text(211.0695652173913, 18.119999999999976, 'gini = 0.444\\nsamples = 6\\nvalue = [2, 4]'),\n",
       " Text(276.5739130434783, 126.83999999999999, 'X[3] <= 23.35\\ngini = 0.432\\nsamples = 95\\nvalue = [65, 30]'),\n",
       " Text(247.4608695652174, 90.6, 'X[1] <= 10.0\\ngini = 0.499\\nsamples = 50\\nvalue = [26, 24]'),\n",
       " Text(232.90434782608696, 54.359999999999985, 'X[3] <= 20.8\\ngini = 0.26\\nsamples = 13\\nvalue = [2, 11]'),\n",
       " Text(225.62608695652173, 18.119999999999976, 'gini = 0.0\\nsamples = 9\\nvalue = [0, 9]'),\n",
       " Text(240.1826086956522, 18.119999999999976, 'gini = 0.5\\nsamples = 4\\nvalue = [2, 2]'),\n",
       " Text(262.0173913043478, 54.359999999999985, 'X[3] <= 22.887\\ngini = 0.456\\nsamples = 37\\nvalue = [24, 13]'),\n",
       " Text(254.73913043478262, 18.119999999999976, 'gini = 0.431\\nsamples = 35\\nvalue = [24, 11]'),\n",
       " Text(269.295652173913, 18.119999999999976, 'gini = 0.0\\nsamples = 2\\nvalue = [0, 2]'),\n",
       " Text(305.68695652173915, 90.6, 'X[1] <= 26.0\\ngini = 0.231\\nsamples = 45\\nvalue = [39, 6]'),\n",
       " Text(291.1304347826087, 54.359999999999985, 'X[1] <= 6.0\\ngini = 0.114\\nsamples = 33\\nvalue = [31, 2]'),\n",
       " Text(283.8521739130435, 18.119999999999976, 'gini = 0.32\\nsamples = 10\\nvalue = [8, 2]'),\n",
       " Text(298.40869565217395, 18.119999999999976, 'gini = 0.0\\nsamples = 23\\nvalue = [23, 0]'),\n",
       " Text(320.24347826086955, 54.359999999999985, 'X[1] <= 39.0\\ngini = 0.444\\nsamples = 12\\nvalue = [8, 4]'),\n",
       " Text(312.96521739130435, 18.119999999999976, 'gini = 0.5\\nsamples = 8\\nvalue = [4, 4]'),\n",
       " Text(327.5217391304348, 18.119999999999976, 'gini = 0.0\\nsamples = 4\\nvalue = [4, 0]')]"
      ]
     },
     "execution_count": 92,
     "metadata": {},
     "output_type": "execute_result"
    },
    {
     "data": {
      "image/png": "[encoded data removed]",
      "text/plain": [
       "<Figure size 432x288 with 1 Axes>"
      ]
     },
     "metadata": {
      "needs_background": "light"
     },
     "output_type": "display_data"
    }
   ],
   "source": [
    "from sklearn import metrics\n",
    "print(\"Accuracy:\",metrics.accuracy_score(y_test,y_pred )*100)\n",
    "from sklearn.metrics import recall_score\n",
    "print ('Validation Results')\n",
    "print ( clf.score(X_train, y_train))\n",
    "print (recall_score(y_train, clf.predict(X_train)))\n",
    "print ('\\nTest Results')\n",
    "print (clf.score(X_test, y_test))\n",
    "import matplotlib as mlb\n",
    "print (recall_score(y_test, clf.predict(X_test)))\n",
    "from sklearn import tree\n",
    "tree.plot_tree(clf)"
   ]
  },
  {
   "cell_type": "code",
   "execution_count": 94,
   "metadata": {},
   "outputs": [
    {
     "name": "stdout",
     "output_type": "stream",
     "text": [
      "Confusion Matrix : \n",
      " [[90 16]\n",
      " [46 26]]\n",
      "Accuracy :  0.651685393258427\n"
     ]
    }
   ],
   "source": [
    "from sklearn.linear_model import LogisticRegression \n",
    "classifier = LogisticRegression(random_state = 0) \n",
    "classifier.fit(X_train, y_train) \n",
    "y_pred = classifier.predict(X_test)\n",
    "cm = confusion_matrix(y_test, y_pred) \n",
    "print (\"Confusion Matrix : \\n\", cm)\n",
    "from sklearn.metrics import accuracy_score \n",
    "print (\"Accuracy : \", accuracy_score(y_test, y_pred))"
   ]
  },
  {
   "cell_type": "code",
   "execution_count": 90,
   "metadata": {},
   "outputs": [
    {
     "name": "stdout",
     "output_type": "stream",
     "text": [
      "Collecting matplotlib\n",
      "  Downloading matplotlib-3.3.2-cp38-cp38-win_amd64.whl (8.5 MB)\n",
      "Requirement already satisfied: pyparsing!=2.0.4,!=2.1.2,!=2.1.6,>=2.0.3 in c:\\users\\okbha\\appdata\\local\\programs\\python\\python38\\lib\\site-packages (from matplotlib) (2.4.7)\n",
      "Requirement already satisfied: python-dateutil>=2.1 in c:\\users\\okbha\\appdata\\local\\programs\\python\\python38\\lib\\site-packages (from matplotlib) (2.8.1)\n",
      "Collecting kiwisolver>=1.0.1\n",
      "  Downloading kiwisolver-1.2.0-cp38-none-win_amd64.whl (58 kB)\n",
      "Collecting pillow>=6.2.0\n",
      "  Downloading Pillow-7.2.0-cp38-cp38-win_amd64.whl (2.1 MB)\n",
      "Requirement already satisfied: certifi>=2020.06.20 in c:\\users\\okbha\\appdata\\local\\programs\\python\\python38\\lib\\site-packages (from matplotlib) (2020.6.20)\n",
      "Collecting cycler>=0.10\n",
      "  Downloading cycler-0.10.0-py2.py3-none-any.whl (6.5 kB)\n",
      "Requirement already satisfied: numpy>=1.15 in c:\\users\\okbha\\appdata\\local\\programs\\python\\python38\\lib\\site-packages (from matplotlib) (1.19.2)\n",
      "Requirement already satisfied: six>=1.5 in c:\\users\\okbha\\appdata\\local\\programs\\python\\python38\\lib\\site-packages (from python-dateutil>=2.1->matplotlib) (1.15.0)\n",
      "Installing collected packages: kiwisolver, pillow, cycler, matplotlib\n",
      "Successfully installed cycler-0.10.0 kiwisolver-1.2.0 matplotlib-3.3.2 pillow-7.2.0\n"
     ]
    }
   ],
   "source": [
    "!pip install matplotlib"
   ]
  },
  {
   "cell_type": "code",
   "execution_count": null,
   "metadata": {},
   "outputs": [],
   "source": []
  }
 ],
 "metadata": {
  "kernelspec": {
   "display_name": "Python 3",
   "language": "python",
   "name": "python3"
  },
  "language_info": {
   "codemirror_mode": {
    "name": "ipython",
    "version": 3
   },
   "file_extension": ".py",
   "mimetype": "text/x-python",
   "name": "python",
   "nbconvert_exporter": "python",
   "pygments_lexer": "ipython3",
   "version": "3.8.3rc1"
  }
 },
 "nbformat": 4,
 "nbformat_minor": 4
}
